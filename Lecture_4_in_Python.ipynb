{
 "cells": [
  {
   "cell_type": "markdown",
   "metadata": {},
   "source": [
    "Data Types in Python"
   ]
  },
  {
   "cell_type": "code",
   "execution_count": 1,
   "metadata": {},
   "outputs": [
    {
     "name": "stdout",
     "output_type": "stream",
     "text": [
      "Hello World!\n"
     ]
    }
   ],
   "source": [
    "print(\"Hello World!\")"
   ]
  },
  {
   "cell_type": "markdown",
   "metadata": {},
   "source": [
    "1. Integers(int)"
   ]
  },
  {
   "cell_type": "code",
   "execution_count": 2,
   "metadata": {},
   "outputs": [
    {
     "name": "stdout",
     "output_type": "stream",
     "text": [
      "Num1: 42 <class 'int'>\n",
      "Num2: -7 <class 'int'>\n",
      "Num3: 0 <class 'int'>\n"
     ]
    }
   ],
   "source": [
    "num1 = 42\n",
    "num2 = -7\n",
    "num3 = 0\n",
    "\n",
    "print(\"Num1:\", num1, type(num1))\n",
    "print(\"Num2:\", num2, type(num2))\n",
    "print(\"Num3:\", num3, type(num3))"
   ]
  },
  {
   "cell_type": "markdown",
   "metadata": {},
   "source": [
    "2. Floats (float)"
   ]
  },
  {
   "cell_type": "code",
   "execution_count": 3,
   "metadata": {},
   "outputs": [
    {
     "name": "stdout",
     "output_type": "stream",
     "text": [
      "Pi: 3.14159 <class 'float'>\n",
      "Small float: -1e-05 <class 'float'>\n",
      "Exp float: 2.25 <class 'float'>\n"
     ]
    }
   ],
   "source": [
    "pi = 3.14159\n",
    "small_float = -0.00001\n",
    "exp_float = 1.5**2\n",
    "\n",
    "print(\"Pi:\", pi, type(pi))\n",
    "print(\"Small float:\", small_float, type(small_float))\n",
    "print(\"Exp float:\", exp_float, type(exp_float))"
   ]
  },
  {
   "cell_type": "markdown",
   "metadata": {},
   "source": [
    "3.Strings (str)\n",
    "\n",
    "A string is a sequence of characters.In Python,strings are sorrounded by either single quotes('..') or double quotation marks(\"..\").We use triple single quotes('''...''') or triple double quotation marks(\"\"\"...\"\"\") for multi-line string."
   ]
  },
  {
   "cell_type": "code",
   "execution_count": 4,
   "metadata": {},
   "outputs": [
    {
     "name": "stdout",
     "output_type": "stream",
     "text": [
      "Greeting: Hello Python people! <class 'str'>\n",
      "Quote: I can use a single quote too for string. <class 'str'>\n",
      "Multiline string: Strings in Python are surrounded by either single quotes or double quotation marks. <class 'str'>\n"
     ]
    }
   ],
   "source": [
    "greeting = \"Hello Python people!\"\n",
    "quote = 'I can use a single quote too for string.'\n",
    "multiline_string = \"\"\"Strings in Python are surrounded by either single quotes or double quotation marks.\"\"\"\n",
    "\n",
    "print(\"Greeting:\", greeting, type(greeting))\n",
    "print(\"Quote:\", quote, type(quote))\n",
    "print(\"Multiline string:\", multiline_string, type(multiline_string))"
   ]
  },
  {
   "cell_type": "markdown",
   "metadata": {},
   "source": [
    "String Operations"
   ]
  },
  {
   "cell_type": "code",
   "execution_count": 7,
   "metadata": {},
   "outputs": [
    {
     "name": "stdout",
     "output_type": "stream",
     "text": [
      "Shaista Adnan\n"
     ]
    }
   ],
   "source": [
    "# Concatenation\n",
    "first_string = \"Shaista\"\n",
    "second_string = \"Adnan\"\n",
    "concatenated_string = first_name+' '+second_name\n",
    "print(concatenated_string)"
   ]
  },
  {
   "cell_type": "code",
   "execution_count": 6,
   "metadata": {},
   "outputs": [
    {
     "name": "stdout",
     "output_type": "stream",
     "text": [
      "My name is Shaista Adnan\n"
     ]
    }
   ],
   "source": [
    "# Using f for strings and variable\n",
    "first_name = \"Shaista\"\n",
    "last_name = \"Adnan\"\n",
    "full_name = f\"My name is {first_name} {last_name}\"\n",
    "print(full_name)"
   ]
  },
  {
   "cell_type": "code",
   "execution_count": 8,
   "metadata": {},
   "outputs": [
    {
     "name": "stdout",
     "output_type": "stream",
     "text": [
      "Adnan Qayyuom\n"
     ]
    }
   ],
   "source": [
    "# Concatenation using format method\n",
    "first_name = \"Adnan\"\n",
    "last_name = \"Qayyuom\"\n",
    "full_name = \"{} {}\".format(first_name,last_name)\n",
    "print(full_name)"
   ]
  },
  {
   "cell_type": "code",
   "execution_count": 9,
   "metadata": {},
   "outputs": [
    {
     "name": "stdout",
     "output_type": "stream",
     "text": [
      "HaHaHa\n"
     ]
    }
   ],
   "source": [
    "# Repetition\n",
    "funny_ha = \"Ha\" * 3\n",
    "print(funny_ha)"
   ]
  },
  {
   "cell_type": "code",
   "execution_count": 11,
   "metadata": {},
   "outputs": [
    {
     "name": "stdout",
     "output_type": "stream",
     "text": [
      "First char: H\n",
      "Last char: !\n",
      "Sub string: Hello \n",
      "Sub string 2: lo Pyt\n"
     ]
    }
   ],
   "source": [
    "# Indexing and Slicing\n",
    "first_char = greeting[0]\n",
    "last_char = greeting[-1]\n",
    "\n",
    "print(\"First char:\", first_char)\n",
    "print(\"Last char:\", last_char)\n",
    "\n",
    "sub_string =greeting[:6]\n",
    "sub_string2 =greeting[3:9]\n",
    "\n",
    "print(\"Sub string:\", sub_string)\n",
    "print(\"Sub string 2:\", sub_string2)\n"
   ]
  },
  {
   "cell_type": "markdown",
   "metadata": {},
   "source": [
    "Using f-string (formatted string) for readability"
   ]
  },
  {
   "cell_type": "code",
   "execution_count": 12,
   "metadata": {},
   "outputs": [
    {
     "name": "stdout",
     "output_type": "stream",
     "text": [
      "My age is 25.\n"
     ]
    }
   ],
   "source": [
    "age = 25\n",
    "message = f\"My age is {age}.\"\n",
    "print(message)"
   ]
  },
  {
   "cell_type": "code",
   "execution_count": 13,
   "metadata": {},
   "outputs": [
    {
     "name": "stdout",
     "output_type": "stream",
     "text": [
      "My name is Hania and i am a female.\n"
     ]
    }
   ],
   "source": [
    "my_name = \"Hania\"\n",
    "gender = \"female\"\n",
    "message = f\"My name is {my_name} and i am a {gender}.\"\n",
    "print(message)"
   ]
  },
  {
   "cell_type": "markdown",
   "metadata": {},
   "source": [
    "Strings Manipulation"
   ]
  },
  {
   "cell_type": "code",
   "execution_count": 15,
   "metadata": {},
   "outputs": [
    {
     "name": "stdout",
     "output_type": "stream",
     "text": [
      "HASSAN\n"
     ]
    }
   ],
   "source": [
    "# UpperCase \n",
    "kid_name = \"Hassan\"\n",
    "print(kid_name.upper())\n"
   ]
  },
  {
   "cell_type": "code",
   "execution_count": 16,
   "metadata": {},
   "outputs": [
    {
     "name": "stdout",
     "output_type": "stream",
     "text": [
      "hassan\n"
     ]
    }
   ],
   "source": [
    "# LowerCase\n",
    "print(kid_name.lower())"
   ]
  },
  {
   "cell_type": "code",
   "execution_count": 17,
   "metadata": {},
   "outputs": [
    {
     "name": "stdout",
     "output_type": "stream",
     "text": [
      "Zebo\n",
      "   Zebo\n",
      "Zebo  \n"
     ]
    }
   ],
   "source": [
    "# Whitespaces\n",
    "baby_name = \"   Zebo  \"\n",
    "print(baby_name.strip())\n",
    "print(baby_name.rstrip())\n",
    "print(baby_name.lstrip())"
   ]
  },
  {
   "cell_type": "code",
   "execution_count": 19,
   "metadata": {},
   "outputs": [
    {
     "name": "stdout",
     "output_type": "stream",
     "text": [
      "Mr Chips\n"
     ]
    }
   ],
   "source": [
    "# Title the first letter of each string\n",
    "writer_name = \"mr chips\"\n",
    "print(writer_name.title())"
   ]
  },
  {
   "cell_type": "code",
   "execution_count": 20,
   "metadata": {},
   "outputs": [
    {
     "name": "stdout",
     "output_type": "stream",
     "text": [
      "Python programming\n"
     ]
    }
   ],
   "source": [
    "# Capitalize the first letter of  string\n",
    "project = \"python programming\"\n",
    "print(project.capitalize())"
   ]
  },
  {
   "cell_type": "code",
   "execution_count": 25,
   "metadata": {},
   "outputs": [
    {
     "name": "stdout",
     "output_type": "stream",
     "text": [
      "['Hello World!']\n"
     ]
    }
   ],
   "source": [
    "# Seperation using split()\n",
    "x = \"Hello World!\"\n",
    "print(x.split(\",\"))"
   ]
  },
  {
   "cell_type": "code",
   "execution_count": 26,
   "metadata": {},
   "outputs": [
    {
     "name": "stdout",
     "output_type": "stream",
     "text": [
      "Jello World!\n"
     ]
    }
   ],
   "source": [
    "# Replacement using replace()\n",
    "x = \"Hello World!\"\n",
    "print(x.replace(\"Hello\",\"Jello\"))"
   ]
  },
  {
   "cell_type": "markdown",
   "metadata": {},
   "source": [
    "4.Boolean (bool)"
   ]
  },
  {
   "cell_type": "markdown",
   "metadata": {},
   "source": [
    "Booleans are True or False values.Typically used in condition checks, loops or logical evaluations."
   ]
  },
  {
   "cell_type": "code",
   "execution_count": 28,
   "metadata": {},
   "outputs": [
    {
     "name": "stdout",
     "output_type": "stream",
     "text": [
      "Python easy: True <class 'bool'>\n",
      "Likes coffee: False <class 'bool'>\n"
     ]
    }
   ],
   "source": [
    "is_python_easy = True\n",
    "likes_coffee = False\n",
    "\n",
    "print(\"Python easy:\", is_python_easy, type(is_python_easy))\n",
    "print(\"Likes coffee:\", likes_coffee, type(likes_coffee))"
   ]
  },
  {
   "cell_type": "code",
   "execution_count": 29,
   "metadata": {},
   "outputs": [
    {
     "name": "stdout",
     "output_type": "stream",
     "text": [
      "Yes,Python is easy.\n"
     ]
    }
   ],
   "source": [
    "# If Statement\n",
    "if is_python_easy:\n",
    "    print(\"Yes,Python is easy.\")"
   ]
  },
  {
   "cell_type": "markdown",
   "metadata": {},
   "source": [
    "5.NoneType"
   ]
  },
  {
   "cell_type": "markdown",
   "metadata": {},
   "source": [
    "None represent the absence of a value.It is often used as a placeholder for optional or missing data."
   ]
  },
  {
   "cell_type": "code",
   "execution_count": 30,
   "metadata": {},
   "outputs": [
    {
     "name": "stdout",
     "output_type": "stream",
     "text": [
      "Nothing here: None <class 'NoneType'>\n"
     ]
    }
   ],
   "source": [
    "nothing_here = None\n",
    "print(\"Nothing here:\", nothing_here, type(nothing_here))"
   ]
  },
  {
   "cell_type": "code",
   "execution_count": 31,
   "metadata": {},
   "outputs": [
    {
     "name": "stdout",
     "output_type": "stream",
     "text": [
      "Variable has no vale.\n"
     ]
    }
   ],
   "source": [
    "# If Statement\n",
    "if nothing_here is None:\n",
    "    print(\"Variable has no vale.\")"
   ]
  },
  {
   "cell_type": "markdown",
   "metadata": {},
   "source": [
    "5.Collections(Data Structures)"
   ]
  },
  {
   "cell_type": "markdown",
   "metadata": {},
   "source": [
    "While permitive data types (like int, float,string, bool) hold single values.Python's built-in collections let you group multiple items in flexible ways.The four built-in collections are:"
   ]
  },
  {
   "cell_type": "markdown",
   "metadata": {},
   "source": [
    "1.List--An ordered,mutable sequence."
   ]
  },
  {
   "cell_type": "markdown",
   "metadata": {},
   "source": [
    "2.Tuple--An ordered,immutable sequence."
   ]
  },
  {
   "cell_type": "markdown",
   "metadata": {},
   "source": [
    "3.Dictionary--An unordered collection of key-value pairs."
   ]
  },
  {
   "cell_type": "markdown",
   "metadata": {},
   "source": [
    "4.Set--An unordered collection of unique elements."
   ]
  },
  {
   "cell_type": "markdown",
   "metadata": {},
   "source": [
    "5.1. List[]"
   ]
  },
  {
   "cell_type": "markdown",
   "metadata": {},
   "source": [
    "1.A list is created using square brackets[] or the list() constructor."
   ]
  },
  {
   "cell_type": "markdown",
   "metadata": {},
   "source": [
    "2.It is ordered, meaning elements retain the order in which they'r inserted."
   ]
  },
  {
   "cell_type": "markdown",
   "metadata": {},
   "source": [
    "3.It is mutable,you can add, remove or update elements after creation."
   ]
  },
  {
   "cell_type": "code",
   "execution_count": 32,
   "metadata": {},
   "outputs": [
    {
     "name": "stdout",
     "output_type": "stream",
     "text": [
      "Empty list: []\n",
      "Numbers: [1, 2, 3, 4, 5, 6]\n",
      "Fruits: ['apple', 'banana', 'cherry', 'dates']\n",
      "Mixed list: [True, 12, 3.4, 'apple']\n"
     ]
    }
   ],
   "source": [
    "empty_list = []\n",
    "numbers = [1,2,3,4,5,6]\n",
    "fruits = [\"apple\",\"banana\",\"cherry\",\"dates\"]\n",
    "mixed_list = [True,12,3.4,\"apple\"]\n",
    "\n",
    "print(\"Empty list:\", empty_list)\n",
    "print(\"Numbers:\", numbers)\n",
    "print(\"Fruits:\", fruits)\n",
    "print(\"Mixed list:\", mixed_list)"
   ]
  },
  {
   "cell_type": "code",
   "execution_count": 33,
   "metadata": {},
   "outputs": [
    {
     "name": "stdout",
     "output_type": "stream",
     "text": [
      "First number: 1\n",
      "Last number: [-1]\n"
     ]
    }
   ],
   "source": [
    "# Accessing elements by their indexing\n",
    "first_num = numbers[0]\n",
    "last_num = [-1]\n",
    "\n",
    "print(\"First number:\", first_num)\n",
    "print(\"Last number:\", last_num)"
   ]
  },
  {
   "cell_type": "markdown",
   "metadata": {},
   "source": [
    "Adding, Removing and Modifying list"
   ]
  },
  {
   "cell_type": "code",
   "execution_count": 35,
   "metadata": {},
   "outputs": [
    {
     "name": "stdout",
     "output_type": "stream",
     "text": [
      "[10, 20, 30, 40]\n",
      "[10, 20, 30, 40, 50]\n",
      "[10, 20, 25, 30, 40, 50]\n",
      "[10, 20, 25, 30, 40]\n",
      "[10, 20, 30, 40]\n",
      "Here is the updated list: [10, 20, 30, 40]\n"
     ]
    }
   ],
   "source": [
    "numbers = [10,20,30,40]\n",
    "print(numbers)\n",
    "\n",
    "# Adding\n",
    "numbers.append(50)\n",
    "print(numbers)\n",
    "\n",
    "# Inserting\n",
    "numbers.insert(2, 25)\n",
    "print(numbers)\n",
    "\n",
    "# Removing\n",
    "numbers.pop()\n",
    "print(numbers)\n",
    "\n",
    "numbers.remove(25)\n",
    "print(numbers)\n",
    "print(\"Here is the updated list:\", numbers)"
   ]
  },
  {
   "cell_type": "markdown",
   "metadata": {},
   "source": [
    "5.2 Tuple"
   ]
  },
  {
   "cell_type": "markdown",
   "metadata": {},
   "source": [
    "1. A tuple is created using parenthesis() or the tuple() constructor.\n",
    "\n",
    "2. It is ordered, similar to list.\n",
    "\n",
    "3. It is immutable.You cannot add, remove or change elements once defined.Creation and Basic Operation \n",
    "\n"
   ]
  },
  {
   "cell_type": "code",
   "execution_count": 36,
   "metadata": {},
   "outputs": [
    {
     "name": "stdout",
     "output_type": "stream",
     "text": [
      "Empty tuple: ()\n",
      "Single item tuple: (4,)\n",
      "Numbers: (1, 2, 3, 4, 5, 6)\n",
      "Mixed tuple: (1.0, 56, False, 'hello')\n"
     ]
    }
   ],
   "source": [
    "empty_tuple = ()\n",
    "single_item_tuple = (4,)\n",
    "numbers = (1,2,3,4,5,6)\n",
    "mixed_tuple = (1.0,56,False,\"hello\")\n",
    "\n",
    "print(\"Empty tuple:\", empty_tuple)\n",
    "print(\"Single item tuple:\", single_item_tuple)\n",
    "print(\"Numbers:\", numbers)\n",
    "print(\"Mixed tuple:\", mixed_tuple)"
   ]
  },
  {
   "cell_type": "code",
   "execution_count": 37,
   "metadata": {},
   "outputs": [
    {
     "name": "stdout",
     "output_type": "stream",
     "text": [
      "First element: 1\n",
      "Last element: 6\n"
     ]
    }
   ],
   "source": [
    "# Accessing elements by indexing\n",
    "first_element = numbers[0]\n",
    "print(\"First element:\", first_element)\n",
    "\n",
    "last_element = numbers[-1]\n",
    "print(\"Last element:\", last_element)"
   ]
  },
  {
   "cell_type": "code",
   "execution_count": 38,
   "metadata": {},
   "outputs": [
    {
     "name": "stdout",
     "output_type": "stream",
     "text": [
      "Sub tuple: (2, 3, 4)\n"
     ]
    }
   ],
   "source": [
    "# Slicing\n",
    "sub_tuple = numbers[1:4]\n",
    "print(\"Sub tuple:\", sub_tuple)"
   ]
  },
  {
   "cell_type": "code",
   "execution_count": 40,
   "metadata": {},
   "outputs": [
    {
     "name": "stdout",
     "output_type": "stream",
     "text": [
      "Name: Adnan\n",
      "Age: 35\n",
      "Job: Supervisor\n"
     ]
    }
   ],
   "source": [
    "# Unpacking a tuple into separate variables\n",
    "person_tuple = (\"Adnan\",35,\"Supervisor\")\n",
    "name, age, job = person_tuple\n",
    "print(\"Name:\", name)\n",
    "print(\"Age:\", age)\n",
    "print(\"Job:\", job)"
   ]
  },
  {
   "cell_type": "markdown",
   "metadata": {},
   "source": [
    "5.3 Dictionary"
   ]
  },
  {
   "cell_type": "markdown",
   "metadata": {},
   "source": [
    "1. A dictionary is created using curly braces{} with key-value pairs.\n",
    "\n",
    "2. It is unordered.\n",
    "\n",
    "3. keys must be unique and immutable (e.g., string,numbers,tuple) .Values can be anything.You can add,remove and change key-value pairs.It is mutable."
   ]
  },
  {
   "cell_type": "code",
   "execution_count": 62,
   "metadata": {},
   "outputs": [
    {
     "name": "stdout",
     "output_type": "stream",
     "text": [
      "Empty dict: {}\n",
      "Person dict: {'name': 'Shaista', 'age': 25}\n",
      "Another dict: {'city': 'Mirpur', 'country': 'Azad Kashmir'}\n"
     ]
    }
   ],
   "source": [
    "empty_dict = {}\n",
    "person_dict = {\"name\":\"Shaista\",\"age\":25}\n",
    "another_dict = dict(city=\"Mirpur\",country=\"Azad Kashmir\")\n",
    "\n",
    "print(\"Empty dict:\", empty_dict)\n",
    "print(\"Person dict:\", person_dict)\n",
    "print(\"Another dict:\", another_dict)\n"
   ]
  },
  {
   "cell_type": "code",
   "execution_count": 63,
   "metadata": {},
   "outputs": [
    {
     "name": "stdout",
     "output_type": "stream",
     "text": [
      "Name: Shaista\n",
      "Age: 25\n"
     ]
    }
   ],
   "source": [
    "# Accessing values by key\n",
    "print(\"Name:\", person_dict[\"name\"])\n",
    "print(\"Age:\", person_dict[\"age\"])"
   ]
  },
  {
   "cell_type": "markdown",
   "metadata": {},
   "source": [
    "Adding and Removing keys"
   ]
  },
  {
   "cell_type": "code",
   "execution_count": 64,
   "metadata": {},
   "outputs": [
    {
     "name": "stdout",
     "output_type": "stream",
     "text": [
      "Updated another dict: {'city': 'New York', 'country': 'Azad Kashmir'}\n"
     ]
    }
   ],
   "source": [
    "# Adding a key-value pair in dict\n",
    "another_dict[\"city\"] = \"New York\"\n",
    "print(\"Updated another dict:\", another_dict)"
   ]
  },
  {
   "cell_type": "code",
   "execution_count": 65,
   "metadata": {},
   "outputs": [
    {
     "name": "stdout",
     "output_type": "stream",
     "text": [
      "Removed Name: Shaista\n"
     ]
    }
   ],
   "source": [
    "# Removing a key-value pair\n",
    "removed_value = person_dict.pop(\"name\")\n",
    "print(\"Removed Name:\", removed_value)"
   ]
  },
  {
   "cell_type": "code",
   "execution_count": 67,
   "metadata": {},
   "outputs": [
    {
     "name": "stdout",
     "output_type": "stream",
     "text": [
      "{'age': 25}\n"
     ]
    }
   ],
   "source": [
    "# Checking if a key exists\n",
    "if \"name\" in person_dict:\n",
    "    print(\"Name key is present.\")\n",
    "    \n",
    "    \n",
    "    \n",
    "    \n",
    "    \n",
    "print(person_dict)"
   ]
  },
  {
   "cell_type": "code",
   "execution_count": 68,
   "metadata": {},
   "outputs": [
    {
     "name": "stdout",
     "output_type": "stream",
     "text": [
      "Keys: dict_keys(['name', 'age', 'job'])\n",
      "Values: dict_values(['Shaista', 25, 'Housewife'])\n",
      "Items: dict_items([('name', 'Shaista'), ('age', 25), ('job', 'Housewife')])\n"
     ]
    }
   ],
   "source": [
    "person_dict = {\"name\":\"Shaista\",\"age\":25,\"job\":\"Housewife\"}\n",
    "print(\"Keys:\", person_dict.keys())\n",
    "print(\"Values:\", person_dict.values())\n",
    "print(\"Items:\", person_dict.items())"
   ]
  },
  {
   "cell_type": "markdown",
   "metadata": {},
   "source": [
    "5.4 Set"
   ]
  },
  {
   "cell_type": "markdown",
   "metadata": {},
   "source": [
    "1. A set is created using curly braces{}.\n",
    "\n",
    "2. It is unordered and does not allow duplicates.\n",
    "\n",
    "3. It is mutable.You can add and remove elements."
   ]
  },
  {
   "cell_type": "markdown",
   "metadata": {},
   "source": [
    "Creation and Basic Operations"
   ]
  },
  {
   "cell_type": "code",
   "execution_count": 69,
   "metadata": {},
   "outputs": [
    {
     "name": "stdout",
     "output_type": "stream",
     "text": [
      "Empty set: {}\n",
      "Numbers set: {1, 3, 5, 7, 9, 11}\n",
      "Mixed set: {1.3, 'adi', 45, True}\n"
     ]
    }
   ],
   "source": [
    "empty_set = {}\n",
    "numbers_set = {1,3,5,7,9,11}\n",
    "mixed_set = {1.3,True,\"adi\",45}\n",
    "\n",
    "print(\"Empty set:\", empty_set)\n",
    "print(\"Numbers set:\", numbers_set)\n",
    "print(\"Mixed set:\", mixed_set)"
   ]
  },
  {
   "cell_type": "markdown",
   "metadata": {},
   "source": [
    "Adding and Removing elements"
   ]
  },
  {
   "cell_type": "code",
   "execution_count": 71,
   "metadata": {},
   "outputs": [
    {
     "name": "stdout",
     "output_type": "stream",
     "text": [
      "{1, 3, 5, 7, 9, 11, 13}\n",
      "{1, 5, 7, 9, 11, 13}\n"
     ]
    }
   ],
   "source": [
    "numbers_set.add(13)\n",
    "print(numbers_set)\n",
    "\n",
    "numbers_set.discard(3)\n",
    "print(numbers_set)"
   ]
  },
  {
   "cell_type": "markdown",
   "metadata": {},
   "source": [
    "Set Opeartions"
   ]
  },
  {
   "cell_type": "markdown",
   "metadata": {},
   "source": [
    "Sets support mathematical set operations like union, intersection, difference, symmetric difference."
   ]
  },
  {
   "cell_type": "code",
   "execution_count": 76,
   "metadata": {},
   "outputs": [
    {
     "name": "stdout",
     "output_type": "stream",
     "text": [
      "Union: {1, 2, 3, 4, 5, 6, 7, 8}\n",
      "Intersection: {4, 5}\n",
      "Difference: {1, 2, 3}\n",
      "Symmetric diffrence: {1, 2, 3, 6, 7, 8}\n"
     ]
    }
   ],
   "source": [
    "set_a = {1,2,3,4,5}\n",
    "set_b = {4,5,6,7,8}\n",
    "\n",
    "# Union :all elements from both sides\n",
    "print(\"Union:\", set_a.union(set_b))\n",
    "\n",
    "# Intersection : common elements from both sides\n",
    "print(\"Intersection:\", set_a.intersection(set_b))\n",
    "\n",
    "# Difference : elements in set_a but not in set_b\n",
    "print(\"Difference:\", set_a.difference(set_b))\n",
    "\n",
    "# Symmetric difference : elements in either set_a or set_b but not both\n",
    "print(\"Symmetric diffrence:\", set_a.symmetric_difference(set_b))"
   ]
  }
 ],
 "metadata": {
  "kernelspec": {
   "display_name": "awfera",
   "language": "python",
   "name": "python3"
  },
  "language_info": {
   "codemirror_mode": {
    "name": "ipython",
    "version": 3
   },
   "file_extension": ".py",
   "mimetype": "text/x-python",
   "name": "python",
   "nbconvert_exporter": "python",
   "pygments_lexer": "ipython3",
   "version": "3.10.16"
  }
 },
 "nbformat": 4,
 "nbformat_minor": 2
}
